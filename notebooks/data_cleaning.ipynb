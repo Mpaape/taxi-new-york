{
 "cells": [
  {
   "attachments": {},
   "cell_type": "markdown",
   "metadata": {},
   "source": [
    "# Data cleaning and preprocessing"
   ]
  },
  {
   "attachments": {},
   "cell_type": "markdown",
   "metadata": {},
   "source": [
    "## imports "
   ]
  },
  {
   "cell_type": "code",
   "execution_count": 1,
   "metadata": {},
   "outputs": [],
   "source": [
    "import random\n",
    "import datetime\n",
    "\n",
    "import pandas as pd \n",
    "import numpy as np \n",
    "\n",
    "# round to two decimal places in python pandas\n",
    "pd.options.display.float_format = '{:.2f}'.format\n",
    "\n",
    "random.seed(999)"
   ]
  },
  {
   "attachments": {},
   "cell_type": "markdown",
   "metadata": {},
   "source": [
    "## Loading  and checking data "
   ]
  },
  {
   "cell_type": "code",
   "execution_count": 2,
   "metadata": {},
   "outputs": [
    {
     "name": "stdout",
     "output_type": "stream",
     "text": [
      "train.csv file has: 55423857 rows (99.98%)\n",
      "test.csv file has: 9915 rows (0.02%)\n"
     ]
    }
   ],
   "source": [
    "# Checking size and first rows of files train and test \n",
    "row_numbers_train = sum(1 for row in open('../data/train.csv'))\n",
    "row_numbers_test = sum(1 for row in open('../data/test.csv'))\n",
    "\n",
    "total_rows = row_numbers_train + row_numbers_test\n",
    "\n",
    "print(f'train.csv file has: {row_numbers_train} rows ({round(row_numbers_train/total_rows,4)*100}%)')\n",
    "print(f'test.csv file has: {row_numbers_test} rows ({round(row_numbers_test/total_rows,4)*100}%)')"
   ]
  },
  {
   "attachments": {},
   "cell_type": "markdown",
   "metadata": {},
   "source": [
    "To avoid some memory problems loading all 55 MM of files lets make a sample in train file to train models. We also 'll leave Test.csv to final validation. we 'll use a \"validation sample\" as our test dataset."
   ]
  },
  {
   "cell_type": "code",
   "execution_count": 3,
   "metadata": {},
   "outputs": [],
   "source": [
    "# defining a util function \n",
    "def get_sample_pandas(\n",
    "        sample_size:int,\n",
    "        population_filepath:str=None,\n",
    "        file_format:str='csv',\n",
    "        head:bool= True\n",
    ")-> pd.DataFrame:\n",
    "    \"\"\"function to receive a sample size and bootsrap using random a number or rows\n",
    "        loaded in pandas.\n",
    "    \"\"\"\n",
    "    if head is True:\n",
    "        start_step = 1 \n",
    "    else:\n",
    "        start_step = 0\n",
    "    #row count on population files    \n",
    "    population_rows = sum (1 for row in open(population_filepath))\n",
    "    \n",
    "    #bootstap of rows to not be skipped\n",
    "    skipped_rows = sorted(\n",
    "        random.sample(\n",
    "            range(start_step,population_rows+1),\n",
    "            population_rows - sample_size\n",
    "        )\n",
    "    )\n",
    "\n",
    "    return pd.read_csv(population_filepath,skiprows=skipped_rows)"
   ]
  },
  {
   "attachments": {},
   "cell_type": "markdown",
   "metadata": {},
   "source": [
    "Lets start with 5.5 millions of rows to explore and model data"
   ]
  },
  {
   "cell_type": "code",
   "execution_count": 4,
   "metadata": {},
   "outputs": [
    {
     "data": {
      "text/html": [
       "<div>\n",
       "<style scoped>\n",
       "    .dataframe tbody tr th:only-of-type {\n",
       "        vertical-align: middle;\n",
       "    }\n",
       "\n",
       "    .dataframe tbody tr th {\n",
       "        vertical-align: top;\n",
       "    }\n",
       "\n",
       "    .dataframe thead th {\n",
       "        text-align: right;\n",
       "    }\n",
       "</style>\n",
       "<table border=\"1\" class=\"dataframe\">\n",
       "  <thead>\n",
       "    <tr style=\"text-align: right;\">\n",
       "      <th></th>\n",
       "      <th>key</th>\n",
       "      <th>fare_amount</th>\n",
       "      <th>pickup_datetime</th>\n",
       "      <th>pickup_longitude</th>\n",
       "      <th>pickup_latitude</th>\n",
       "      <th>dropoff_longitude</th>\n",
       "      <th>dropoff_latitude</th>\n",
       "      <th>passenger_count</th>\n",
       "    </tr>\n",
       "  </thead>\n",
       "  <tbody>\n",
       "    <tr>\n",
       "      <th>0</th>\n",
       "      <td>2011-08-18 00:35:00.00000049</td>\n",
       "      <td>5.70</td>\n",
       "      <td>2011-08-18 00:35:00 UTC</td>\n",
       "      <td>-73.98</td>\n",
       "      <td>40.76</td>\n",
       "      <td>-73.99</td>\n",
       "      <td>40.75</td>\n",
       "      <td>2</td>\n",
       "    </tr>\n",
       "    <tr>\n",
       "      <th>1</th>\n",
       "      <td>2013-11-23 12:57:00.000000190</td>\n",
       "      <td>5.00</td>\n",
       "      <td>2013-11-23 12:57:00 UTC</td>\n",
       "      <td>0.00</td>\n",
       "      <td>0.00</td>\n",
       "      <td>0.00</td>\n",
       "      <td>0.00</td>\n",
       "      <td>1</td>\n",
       "    </tr>\n",
       "    <tr>\n",
       "      <th>2</th>\n",
       "      <td>2012-05-04 06:11:20.0000002</td>\n",
       "      <td>9.30</td>\n",
       "      <td>2012-05-04 06:11:20 UTC</td>\n",
       "      <td>-73.99</td>\n",
       "      <td>40.69</td>\n",
       "      <td>-74.00</td>\n",
       "      <td>40.73</td>\n",
       "      <td>1</td>\n",
       "    </tr>\n",
       "    <tr>\n",
       "      <th>3</th>\n",
       "      <td>2011-03-29 15:39:49.0000002</td>\n",
       "      <td>8.10</td>\n",
       "      <td>2011-03-29 15:39:49 UTC</td>\n",
       "      <td>-73.98</td>\n",
       "      <td>40.74</td>\n",
       "      <td>-73.98</td>\n",
       "      <td>40.76</td>\n",
       "      <td>1</td>\n",
       "    </tr>\n",
       "    <tr>\n",
       "      <th>4</th>\n",
       "      <td>2014-05-01 09:12:00.000000198</td>\n",
       "      <td>7.00</td>\n",
       "      <td>2014-05-01 09:12:00 UTC</td>\n",
       "      <td>-73.97</td>\n",
       "      <td>40.77</td>\n",
       "      <td>-73.98</td>\n",
       "      <td>40.77</td>\n",
       "      <td>6</td>\n",
       "    </tr>\n",
       "  </tbody>\n",
       "</table>\n",
       "</div>"
      ],
      "text/plain": [
       "                             key  fare_amount          pickup_datetime  \\\n",
       "0   2011-08-18 00:35:00.00000049         5.70  2011-08-18 00:35:00 UTC   \n",
       "1  2013-11-23 12:57:00.000000190         5.00  2013-11-23 12:57:00 UTC   \n",
       "2    2012-05-04 06:11:20.0000002         9.30  2012-05-04 06:11:20 UTC   \n",
       "3    2011-03-29 15:39:49.0000002         8.10  2011-03-29 15:39:49 UTC   \n",
       "4  2014-05-01 09:12:00.000000198         7.00  2014-05-01 09:12:00 UTC   \n",
       "\n",
       "   pickup_longitude  pickup_latitude  dropoff_longitude  dropoff_latitude  \\\n",
       "0            -73.98            40.76             -73.99             40.75   \n",
       "1              0.00             0.00               0.00              0.00   \n",
       "2            -73.99            40.69             -74.00             40.73   \n",
       "3            -73.98            40.74             -73.98             40.76   \n",
       "4            -73.97            40.77             -73.98             40.77   \n",
       "\n",
       "   passenger_count  \n",
       "0                2  \n",
       "1                1  \n",
       "2                1  \n",
       "3                1  \n",
       "4                6  "
      ]
     },
     "execution_count": 4,
     "metadata": {},
     "output_type": "execute_result"
    }
   ],
   "source": [
    "dataset = get_sample_pandas(sample_size=5_500_000 ,population_filepath='../data/train.csv')\n",
    "dataset.head()"
   ]
  },
  {
   "cell_type": "code",
   "execution_count": 5,
   "metadata": {},
   "outputs": [
    {
     "name": "stdout",
     "output_type": "stream",
     "text": [
      "<class 'pandas.core.frame.DataFrame'>\n",
      "RangeIndex: 5500000 entries, 0 to 5499999\n",
      "Data columns (total 8 columns):\n",
      " #   Column             Dtype  \n",
      "---  ------             -----  \n",
      " 0   key                object \n",
      " 1   fare_amount        float64\n",
      " 2   pickup_datetime    object \n",
      " 3   pickup_longitude   float64\n",
      " 4   pickup_latitude    float64\n",
      " 5   dropoff_longitude  float64\n",
      " 6   dropoff_latitude   float64\n",
      " 7   passenger_count    int64  \n",
      "dtypes: float64(5), int64(1), object(2)\n",
      "memory usage: 335.7+ MB\n"
     ]
    }
   ],
   "source": [
    "dataset.info()"
   ]
  },
  {
   "attachments": {},
   "cell_type": "markdown",
   "metadata": {},
   "source": [
    " observations:\n",
    "\n",
    "- Some values is null.\n",
    "- Pickup_datetime values its look's like datetime format but it is formated as object. it is posible to change that to datatime (key is designed to be a ID_event and not interpreted as date)\n",
    "- Some variables coud be downcasted to lower type formats reduce and optimize calculations. \n",
    "- target variable is fare_amout"
   ]
  },
  {
   "cell_type": "code",
   "execution_count": 6,
   "metadata": {},
   "outputs": [
    {
     "name": "stdout",
     "output_type": "stream",
     "text": [
      " Column :  |dropoff_longitude|\n",
      "================================================================================\n",
      "                                key  fare_amount          pickup_datetime  \\\n",
      "79226   2013-11-04 20:07:59.0000006         7.20  2013-11-04 20:07:59 UTC   \n",
      "366845  2013-11-13 10:53:50.0000001         6.00  2013-11-13 10:53:50 UTC   \n",
      "\n",
      "        pickup_longitude  pickup_latitude  dropoff_longitude  \\\n",
      "79226             -73.98            40.79                NaN   \n",
      "366845            -73.97            40.79                NaN   \n",
      "\n",
      "        dropoff_latitude  passenger_count  \n",
      "79226                NaN                0  \n",
      "366845               NaN                0  \n",
      "================================================================================\n",
      " Column :  |dropoff_latitude|\n",
      "================================================================================\n",
      "                                key  fare_amount          pickup_datetime  \\\n",
      "79226   2013-11-04 20:07:59.0000006         7.20  2013-11-04 20:07:59 UTC   \n",
      "366845  2013-11-13 10:53:50.0000001         6.00  2013-11-13 10:53:50 UTC   \n",
      "\n",
      "        pickup_longitude  pickup_latitude  dropoff_longitude  \\\n",
      "79226             -73.98            40.79                NaN   \n",
      "366845            -73.97            40.79                NaN   \n",
      "\n",
      "        dropoff_latitude  passenger_count  \n",
      "79226                NaN                0  \n",
      "366845               NaN                0  \n",
      "================================================================================\n"
     ]
    }
   ],
   "source": [
    "\n",
    "# getting cols with nulls\n",
    "null_cols = [ col for col in dataset.columns if dataset[col].isnull().sum()>0]\n",
    "\n",
    "#print 2 rows of each colummn to  sanity check\n",
    "for column in null_cols:\n",
    "    print(f\" Column :  |{column}|\")\n",
    "    print(\"=\"*80)\n",
    "    print(dataset[dataset[column].isnull()].head(2))\n",
    "    print(\"=\"*80)"
   ]
  },
  {
   "cell_type": "code",
   "execution_count": 7,
   "metadata": {},
   "outputs": [],
   "source": [
    "# according to https://en.wikipedia.org/wiki/Decimal_degrees we can have a precision of tectonic survey using \n",
    "# only 8 decimal places is needed. latitute and longitude could be downcasted to a format that handles 8 decimals\n",
    "#8 bits coud represent a number of 256 digits... that's makes enough to a taxi fare... \n",
    "new_types = {\n",
    "    'fare_amount':np.float32, #   'pickup_datetime': datetime.datetime, \n",
    "    'pickup_longitude':np.float32,\n",
    "    'pickup_latitude':np.float32,\n",
    "    'dropoff_longitude':np.float32,\t\n",
    "    'dropoff_latitude':np.float32,\n",
    "    'passenger_count':np.int8\n",
    "}\n",
    "\n",
    "dataset=dataset.astype(new_types)\n",
    "# date to datetime \n",
    "dataset.pickup_datetime = pd.to_datetime(dataset.pickup_datetime)"
   ]
  },
  {
   "cell_type": "code",
   "execution_count": 8,
   "metadata": {},
   "outputs": [
    {
     "name": "stdout",
     "output_type": "stream",
     "text": [
      "<class 'pandas.core.frame.DataFrame'>\n",
      "RangeIndex: 5500000 entries, 0 to 5499999\n",
      "Data columns (total 8 columns):\n",
      " #   Column             Dtype              \n",
      "---  ------             -----              \n",
      " 0   key                object             \n",
      " 1   fare_amount        float32            \n",
      " 2   pickup_datetime    datetime64[ns, UTC]\n",
      " 3   pickup_longitude   float32            \n",
      " 4   pickup_latitude    float32            \n",
      " 5   dropoff_longitude  float32            \n",
      " 6   dropoff_latitude   float32            \n",
      " 7   passenger_count    int8               \n",
      "dtypes: datetime64[ns, UTC](1), float32(5), int8(1), object(1)\n",
      "memory usage: 194.1+ MB\n"
     ]
    }
   ],
   "source": [
    "dataset.info()"
   ]
  },
  {
   "cell_type": "markdown",
   "metadata": {},
   "source": [
    "We reduced more than 50% of memory usage on dataframe"
   ]
  },
  {
   "cell_type": "code",
   "execution_count": 9,
   "metadata": {},
   "outputs": [
    {
     "data": {
      "text/plain": [
       "key                   0\n",
       "fare_amount           0\n",
       "pickup_datetime       0\n",
       "pickup_longitude      0\n",
       "pickup_latitude       0\n",
       "dropoff_longitude    33\n",
       "dropoff_latitude     33\n",
       "passenger_count       0\n",
       "dtype: int64"
      ]
     },
     "execution_count": 9,
     "metadata": {},
     "output_type": "execute_result"
    }
   ],
   "source": [
    "#before remove nan\n",
    "dataset.isnull().sum()"
   ]
  },
  {
   "cell_type": "code",
   "execution_count": 10,
   "metadata": {},
   "outputs": [],
   "source": [
    "# since we have a lot data lets assume that 'll not be prejudicial drop na from sample\n",
    "dataset.dropna(inplace=True)"
   ]
  },
  {
   "cell_type": "code",
   "execution_count": 11,
   "metadata": {},
   "outputs": [
    {
     "data": {
      "text/plain": [
       "key                  0\n",
       "fare_amount          0\n",
       "pickup_datetime      0\n",
       "pickup_longitude     0\n",
       "pickup_latitude      0\n",
       "dropoff_longitude    0\n",
       "dropoff_latitude     0\n",
       "passenger_count      0\n",
       "dtype: int64"
      ]
     },
     "execution_count": 11,
     "metadata": {},
     "output_type": "execute_result"
    }
   ],
   "source": [
    "#after remove nan\n",
    "dataset.isnull().sum()"
   ]
  },
  {
   "attachments": {},
   "cell_type": "markdown",
   "metadata": {},
   "source": [
    "checking distribution of data. Included 0.01 and 0.999 because, thats problably 'll indicate some outliers "
   ]
  },
  {
   "cell_type": "code",
   "execution_count": 12,
   "metadata": {},
   "outputs": [
    {
     "data": {
      "text/html": [
       "<div>\n",
       "<style scoped>\n",
       "    .dataframe tbody tr th:only-of-type {\n",
       "        vertical-align: middle;\n",
       "    }\n",
       "\n",
       "    .dataframe tbody tr th {\n",
       "        vertical-align: top;\n",
       "    }\n",
       "\n",
       "    .dataframe thead th {\n",
       "        text-align: right;\n",
       "    }\n",
       "</style>\n",
       "<table border=\"1\" class=\"dataframe\">\n",
       "  <thead>\n",
       "    <tr style=\"text-align: right;\">\n",
       "      <th></th>\n",
       "      <th>fare_amount</th>\n",
       "      <th>pickup_longitude</th>\n",
       "      <th>pickup_latitude</th>\n",
       "      <th>dropoff_longitude</th>\n",
       "      <th>dropoff_latitude</th>\n",
       "      <th>passenger_count</th>\n",
       "    </tr>\n",
       "  </thead>\n",
       "  <tbody>\n",
       "    <tr>\n",
       "      <th>count</th>\n",
       "      <td>5499967.00</td>\n",
       "      <td>5499967.00</td>\n",
       "      <td>5499967.00</td>\n",
       "      <td>5499967.00</td>\n",
       "      <td>5499967.00</td>\n",
       "      <td>5499967.00</td>\n",
       "    </tr>\n",
       "    <tr>\n",
       "      <th>mean</th>\n",
       "      <td>11.35</td>\n",
       "      <td>-70.51</td>\n",
       "      <td>42.23</td>\n",
       "      <td>-70.51</td>\n",
       "      <td>42.22</td>\n",
       "      <td>1.68</td>\n",
       "    </tr>\n",
       "    <tr>\n",
       "      <th>std</th>\n",
       "      <td>41.14</td>\n",
       "      <td>12.46</td>\n",
       "      <td>10.10</td>\n",
       "      <td>12.98</td>\n",
       "      <td>9.66</td>\n",
       "      <td>1.31</td>\n",
       "    </tr>\n",
       "    <tr>\n",
       "      <th>min</th>\n",
       "      <td>-67.00</td>\n",
       "      <td>-3414.13</td>\n",
       "      <td>-3492.26</td>\n",
       "      <td>-3428.04</td>\n",
       "      <td>-3461.54</td>\n",
       "      <td>-127.00</td>\n",
       "    </tr>\n",
       "    <tr>\n",
       "      <th>1%</th>\n",
       "      <td>3.30</td>\n",
       "      <td>-74.01</td>\n",
       "      <td>0.00</td>\n",
       "      <td>-74.02</td>\n",
       "      <td>0.00</td>\n",
       "      <td>1.00</td>\n",
       "    </tr>\n",
       "    <tr>\n",
       "      <th>5%</th>\n",
       "      <td>4.10</td>\n",
       "      <td>-74.01</td>\n",
       "      <td>40.70</td>\n",
       "      <td>-74.01</td>\n",
       "      <td>40.69</td>\n",
       "      <td>1.00</td>\n",
       "    </tr>\n",
       "    <tr>\n",
       "      <th>10%</th>\n",
       "      <td>4.50</td>\n",
       "      <td>-74.00</td>\n",
       "      <td>40.72</td>\n",
       "      <td>-74.00</td>\n",
       "      <td>40.71</td>\n",
       "      <td>1.00</td>\n",
       "    </tr>\n",
       "    <tr>\n",
       "      <th>25%</th>\n",
       "      <td>6.00</td>\n",
       "      <td>-73.99</td>\n",
       "      <td>40.73</td>\n",
       "      <td>-73.99</td>\n",
       "      <td>40.73</td>\n",
       "      <td>1.00</td>\n",
       "    </tr>\n",
       "    <tr>\n",
       "      <th>50%</th>\n",
       "      <td>8.50</td>\n",
       "      <td>-73.98</td>\n",
       "      <td>40.75</td>\n",
       "      <td>-73.98</td>\n",
       "      <td>40.75</td>\n",
       "      <td>1.00</td>\n",
       "    </tr>\n",
       "    <tr>\n",
       "      <th>75%</th>\n",
       "      <td>12.50</td>\n",
       "      <td>-73.97</td>\n",
       "      <td>40.77</td>\n",
       "      <td>-73.96</td>\n",
       "      <td>40.77</td>\n",
       "      <td>2.00</td>\n",
       "    </tr>\n",
       "    <tr>\n",
       "      <th>90%</th>\n",
       "      <td>20.50</td>\n",
       "      <td>-73.95</td>\n",
       "      <td>40.78</td>\n",
       "      <td>-73.95</td>\n",
       "      <td>40.78</td>\n",
       "      <td>4.00</td>\n",
       "    </tr>\n",
       "    <tr>\n",
       "      <th>99%</th>\n",
       "      <td>53.00</td>\n",
       "      <td>0.00</td>\n",
       "      <td>40.81</td>\n",
       "      <td>0.00</td>\n",
       "      <td>40.83</td>\n",
       "      <td>6.00</td>\n",
       "    </tr>\n",
       "    <tr>\n",
       "      <th>99.9%</th>\n",
       "      <td>80.00</td>\n",
       "      <td>0.00</td>\n",
       "      <td>40.86</td>\n",
       "      <td>0.00</td>\n",
       "      <td>40.90</td>\n",
       "      <td>6.00</td>\n",
       "    </tr>\n",
       "    <tr>\n",
       "      <th>max</th>\n",
       "      <td>93963.36</td>\n",
       "      <td>3442.19</td>\n",
       "      <td>3333.27</td>\n",
       "      <td>3453.42</td>\n",
       "      <td>3537.13</td>\n",
       "      <td>7.00</td>\n",
       "    </tr>\n",
       "  </tbody>\n",
       "</table>\n",
       "</div>"
      ],
      "text/plain": [
       "       fare_amount  pickup_longitude  pickup_latitude  dropoff_longitude  \\\n",
       "count   5499967.00        5499967.00       5499967.00         5499967.00   \n",
       "mean         11.35            -70.51            42.23             -70.51   \n",
       "std          41.14             12.46            10.10              12.98   \n",
       "min         -67.00          -3414.13         -3492.26           -3428.04   \n",
       "1%            3.30            -74.01             0.00             -74.02   \n",
       "5%            4.10            -74.01            40.70             -74.01   \n",
       "10%           4.50            -74.00            40.72             -74.00   \n",
       "25%           6.00            -73.99            40.73             -73.99   \n",
       "50%           8.50            -73.98            40.75             -73.98   \n",
       "75%          12.50            -73.97            40.77             -73.96   \n",
       "90%          20.50            -73.95            40.78             -73.95   \n",
       "99%          53.00              0.00            40.81               0.00   \n",
       "99.9%        80.00              0.00            40.86               0.00   \n",
       "max       93963.36           3442.19          3333.27            3453.42   \n",
       "\n",
       "       dropoff_latitude  passenger_count  \n",
       "count        5499967.00       5499967.00  \n",
       "mean              42.22             1.68  \n",
       "std                9.66             1.31  \n",
       "min            -3461.54          -127.00  \n",
       "1%                 0.00             1.00  \n",
       "5%                40.69             1.00  \n",
       "10%               40.71             1.00  \n",
       "25%               40.73             1.00  \n",
       "50%               40.75             1.00  \n",
       "75%               40.77             2.00  \n",
       "90%               40.78             4.00  \n",
       "99%               40.83             6.00  \n",
       "99.9%             40.90             6.00  \n",
       "max             3537.13             7.00  "
      ]
     },
     "execution_count": 12,
     "metadata": {},
     "output_type": "execute_result"
    }
   ],
   "source": [
    "#describing \n",
    "dataset.describe([.01,.05,.10,.25,.5,.75,.9,.99,.999])"
   ]
  },
  {
   "cell_type": "markdown",
   "metadata": {},
   "source": [
    "## Exporting preprocessed dataframe to csv file"
   ]
  },
  {
   "cell_type": "code",
   "execution_count": 14,
   "metadata": {},
   "outputs": [],
   "source": [
    "# dropping key column"
   ]
  },
  {
   "cell_type": "code",
   "execution_count": 13,
   "metadata": {},
   "outputs": [],
   "source": [
    "dataset.to_csv(f'../data/taxi_sample.csv')"
   ]
  },
  {
   "attachments": {},
   "cell_type": "markdown",
   "metadata": {},
   "source": [
    "observations:\n",
    "\n",
    "* less than 1% porcent of data has :\n",
    "    * zero passenger_count. that count don't makes sense. \n",
    "    * negative fare_amount, maybe a devolution?\n",
    "    * dropoff coordenates 0 also looks like a problem with the data. \n",
    "*  Maximum and minimum values of variables are too much different  of the obeserved on the distribution. \n",
    "*  problably it s no make sense pickup latitude '0' so, we may have to work on a plan to not consider that. \n",
    "*  difference between median and avg on target variable and also in other features suggest a strong influence of that outliers on AVG. \n",
    "\n",
    "        "
   ]
  },
  {
   "cell_type": "markdown",
   "metadata": {},
   "source": []
  }
 ],
 "metadata": {
  "kernelspec": {
   "display_name": "base",
   "language": "python",
   "name": "python3"
  },
  "language_info": {
   "codemirror_mode": {
    "name": "ipython",
    "version": 3
   },
   "file_extension": ".py",
   "mimetype": "text/x-python",
   "name": "python",
   "nbconvert_exporter": "python",
   "pygments_lexer": "ipython3",
   "version": "3.8.5"
  },
  "orig_nbformat": 4,
  "vscode": {
   "interpreter": {
    "hash": "69e82622505be82ec5a5909d9f0cb99045330991c5bf60af11637927dda4ac8d"
   }
  }
 },
 "nbformat": 4,
 "nbformat_minor": 2
}

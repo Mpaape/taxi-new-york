{
 "cells": [
  {
   "attachments": {},
   "cell_type": "markdown",
   "metadata": {},
   "source": [
    "# Data cleaning and preprocessing"
   ]
  },
  {
   "attachments": {},
   "cell_type": "markdown",
   "metadata": {},
   "source": [
    "## imports "
   ]
  },
  {
   "cell_type": "code",
   "execution_count": 2,
   "metadata": {},
   "outputs": [],
   "source": [
    "import random\n",
    "import datetime\n",
    "\n",
    "import pandas as pd \n",
    "import numpy as np \n",
    "\n",
    "# round to two decimal places in python pandas\n",
    "pd.options.display.float_format = '{:.2f}'.format\n",
    "\n",
    "random.seed(999)"
   ]
  },
  {
   "attachments": {},
   "cell_type": "markdown",
   "metadata": {},
   "source": [
    "## Loading  and checking data "
   ]
  },
  {
   "cell_type": "code",
   "execution_count": 3,
   "metadata": {},
   "outputs": [
    {
     "name": "stdout",
     "output_type": "stream",
     "text": [
      "train.csv file has: 55423857 rows (99.98%)\n",
      "test.csv file has: 9915 rows (0.02%)\n"
     ]
    }
   ],
   "source": [
    "# Checking size and first rows of files train and test \n",
    "row_numbers_train = sum(1 for row in open('../data/train.csv'))\n",
    "row_numbers_test = sum(1 for row in open('../data/test.csv'))\n",
    "\n",
    "total_rows = row_numbers_train + row_numbers_test\n",
    "\n",
    "print(f'train.csv file has: {row_numbers_train} rows ({round(row_numbers_train/total_rows,4)*100}%)')\n",
    "print(f'test.csv file has: {row_numbers_test} rows ({round(row_numbers_test/total_rows,4)*100}%)')"
   ]
  },
  {
   "attachments": {},
   "cell_type": "markdown",
   "metadata": {},
   "source": [
    "To avoid some memory problems loading all 55 MM of files lets make a sample in train file to train models. We also 'll leave Test.csv to final validation. we 'll use a \"validation sample\" as our test dataset."
   ]
  },
  {
   "cell_type": "code",
   "execution_count": 4,
   "metadata": {},
   "outputs": [],
   "source": [
    "# defining a util function \n",
    "def get_sample_pandas(\n",
    "        sample_size:int,\n",
    "        population_filepath:str=None,\n",
    "        file_format:str='csv',\n",
    "        head:bool= True\n",
    ")-> pd.DataFrame:\n",
    "    \"\"\"function to receive a sample size and bootsrap using random a number or rows\n",
    "        loaded in pandas.\n",
    "    \"\"\"\n",
    "    if head is True:\n",
    "        start_step = 1 \n",
    "    else:\n",
    "        start_step = 0\n",
    "    #row count on population files    \n",
    "    population_rows = sum (1 for row in open(population_filepath))\n",
    "    \n",
    "    #bootstap of rows to not be skipped\n",
    "    skipped_rows = sorted(\n",
    "        random.sample(\n",
    "            range(start_step,population_rows+1),\n",
    "            population_rows - sample_size\n",
    "        )\n",
    "    )\n",
    "\n",
    "    return pd.read_csv(population_filepath,skiprows=skipped_rows)"
   ]
  },
  {
   "attachments": {},
   "cell_type": "markdown",
   "metadata": {},
   "source": [
    "Lets start with 5.5 millions of rows to explore and model data"
   ]
  },
  {
   "cell_type": "code",
   "execution_count": 38,
   "metadata": {},
   "outputs": [],
   "source": [
    "sample_size = 5_500_000"
   ]
  },
  {
   "cell_type": "code",
   "execution_count": 5,
   "metadata": {},
   "outputs": [
    {
     "data": {
      "text/html": [
       "<div>\n",
       "<style scoped>\n",
       "    .dataframe tbody tr th:only-of-type {\n",
       "        vertical-align: middle;\n",
       "    }\n",
       "\n",
       "    .dataframe tbody tr th {\n",
       "        vertical-align: top;\n",
       "    }\n",
       "\n",
       "    .dataframe thead th {\n",
       "        text-align: right;\n",
       "    }\n",
       "</style>\n",
       "<table border=\"1\" class=\"dataframe\">\n",
       "  <thead>\n",
       "    <tr style=\"text-align: right;\">\n",
       "      <th></th>\n",
       "      <th>key</th>\n",
       "      <th>fare_amount</th>\n",
       "      <th>pickup_datetime</th>\n",
       "      <th>pickup_longitude</th>\n",
       "      <th>pickup_latitude</th>\n",
       "      <th>dropoff_longitude</th>\n",
       "      <th>dropoff_latitude</th>\n",
       "      <th>passenger_count</th>\n",
       "    </tr>\n",
       "  </thead>\n",
       "  <tbody>\n",
       "    <tr>\n",
       "      <th>0</th>\n",
       "      <td>2011-08-18 00:35:00.00000049</td>\n",
       "      <td>5.70</td>\n",
       "      <td>2011-08-18 00:35:00 UTC</td>\n",
       "      <td>-73.98</td>\n",
       "      <td>40.76</td>\n",
       "      <td>-73.99</td>\n",
       "      <td>40.75</td>\n",
       "      <td>2</td>\n",
       "    </tr>\n",
       "    <tr>\n",
       "      <th>1</th>\n",
       "      <td>2013-11-23 12:57:00.000000190</td>\n",
       "      <td>5.00</td>\n",
       "      <td>2013-11-23 12:57:00 UTC</td>\n",
       "      <td>0.00</td>\n",
       "      <td>0.00</td>\n",
       "      <td>0.00</td>\n",
       "      <td>0.00</td>\n",
       "      <td>1</td>\n",
       "    </tr>\n",
       "    <tr>\n",
       "      <th>2</th>\n",
       "      <td>2012-05-04 06:11:20.0000002</td>\n",
       "      <td>9.30</td>\n",
       "      <td>2012-05-04 06:11:20 UTC</td>\n",
       "      <td>-73.99</td>\n",
       "      <td>40.69</td>\n",
       "      <td>-74.00</td>\n",
       "      <td>40.73</td>\n",
       "      <td>1</td>\n",
       "    </tr>\n",
       "    <tr>\n",
       "      <th>3</th>\n",
       "      <td>2011-03-29 15:39:49.0000002</td>\n",
       "      <td>8.10</td>\n",
       "      <td>2011-03-29 15:39:49 UTC</td>\n",
       "      <td>-73.98</td>\n",
       "      <td>40.74</td>\n",
       "      <td>-73.98</td>\n",
       "      <td>40.76</td>\n",
       "      <td>1</td>\n",
       "    </tr>\n",
       "    <tr>\n",
       "      <th>4</th>\n",
       "      <td>2014-05-01 09:12:00.000000198</td>\n",
       "      <td>7.00</td>\n",
       "      <td>2014-05-01 09:12:00 UTC</td>\n",
       "      <td>-73.97</td>\n",
       "      <td>40.77</td>\n",
       "      <td>-73.98</td>\n",
       "      <td>40.77</td>\n",
       "      <td>6</td>\n",
       "    </tr>\n",
       "  </tbody>\n",
       "</table>\n",
       "</div>"
      ],
      "text/plain": [
       "                             key  fare_amount          pickup_datetime  \\\n",
       "0   2011-08-18 00:35:00.00000049         5.70  2011-08-18 00:35:00 UTC   \n",
       "1  2013-11-23 12:57:00.000000190         5.00  2013-11-23 12:57:00 UTC   \n",
       "2    2012-05-04 06:11:20.0000002         9.30  2012-05-04 06:11:20 UTC   \n",
       "3    2011-03-29 15:39:49.0000002         8.10  2011-03-29 15:39:49 UTC   \n",
       "4  2014-05-01 09:12:00.000000198         7.00  2014-05-01 09:12:00 UTC   \n",
       "\n",
       "   pickup_longitude  pickup_latitude  dropoff_longitude  dropoff_latitude  \\\n",
       "0            -73.98            40.76             -73.99             40.75   \n",
       "1              0.00             0.00               0.00              0.00   \n",
       "2            -73.99            40.69             -74.00             40.73   \n",
       "3            -73.98            40.74             -73.98             40.76   \n",
       "4            -73.97            40.77             -73.98             40.77   \n",
       "\n",
       "   passenger_count  \n",
       "0                2  \n",
       "1                1  \n",
       "2                1  \n",
       "3                1  \n",
       "4                6  "
      ]
     },
     "execution_count": 5,
     "metadata": {},
     "output_type": "execute_result"
    }
   ],
   "source": [
    "dataset = get_sample_pandas(sample_size= sample_size,population_filepath='../data/train.csv')\n",
    "dataset.head()"
   ]
  },
  {
   "cell_type": "code",
   "execution_count": 6,
   "metadata": {},
   "outputs": [
    {
     "name": "stdout",
     "output_type": "stream",
     "text": [
      "<class 'pandas.core.frame.DataFrame'>\n",
      "RangeIndex: 5500000 entries, 0 to 5499999\n",
      "Data columns (total 8 columns):\n",
      " #   Column             Dtype  \n",
      "---  ------             -----  \n",
      " 0   key                object \n",
      " 1   fare_amount        float64\n",
      " 2   pickup_datetime    object \n",
      " 3   pickup_longitude   float64\n",
      " 4   pickup_latitude    float64\n",
      " 5   dropoff_longitude  float64\n",
      " 6   dropoff_latitude   float64\n",
      " 7   passenger_count    int64  \n",
      "dtypes: float64(5), int64(1), object(2)\n",
      "memory usage: 335.7+ MB\n"
     ]
    }
   ],
   "source": [
    "dataset.info()"
   ]
  },
  {
   "attachments": {},
   "cell_type": "markdown",
   "metadata": {},
   "source": [
    " observations:\n",
    "\n",
    "- Some values is null.\n",
    "- Pickup_datetime values its look's like datetime format but it is formated as object. it is posible to change that to datatime (key is designed to be a ID_event and not interpreted as date)\n",
    "- Some variables coud be downcasted to lower type formats reduce and optimize calculations. \n",
    "- target variable is fare_amout"
   ]
  },
  {
   "cell_type": "code",
   "execution_count": 9,
   "metadata": {},
   "outputs": [
    {
     "name": "stdout",
     "output_type": "stream",
     "text": [
      " Column :  |dropoff_longitude|\n",
      "================================================================================\n",
      "                               key  fare_amount          pickup_datetime  \\\n",
      "79226  2013-11-04 20:07:59.0000006         7.20  2013-11-04 20:07:59 UTC   \n",
      "\n",
      "       pickup_longitude  pickup_latitude  dropoff_longitude  dropoff_latitude  \\\n",
      "79226            -73.98            40.79                NaN               NaN   \n",
      "\n",
      "       passenger_count  \n",
      "79226                0  \n",
      "================================================================================\n",
      " Column :  |dropoff_latitude|\n",
      "================================================================================\n",
      "                               key  fare_amount          pickup_datetime  \\\n",
      "79226  2013-11-04 20:07:59.0000006         7.20  2013-11-04 20:07:59 UTC   \n",
      "\n",
      "       pickup_longitude  pickup_latitude  dropoff_longitude  dropoff_latitude  \\\n",
      "79226            -73.98            40.79                NaN               NaN   \n",
      "\n",
      "       passenger_count  \n",
      "79226                0  \n",
      "================================================================================\n"
     ]
    }
   ],
   "source": [
    "\n",
    "# getting cols with nulls\n",
    "null_cols = [ col for col in dataset.columns if dataset[col].isnull().sum()>0]\n",
    "\n",
    "#print 2 rows of each colummn to  sanity check\n",
    "for column in null_cols:\n",
    "    print(f\" Column :  |{column}|\")\n",
    "    print(\"=\"*80)\n",
    "    print(dataset[dataset[column].isnull()].head(1))\n",
    "    print(\"=\"*80)"
   ]
  },
  {
   "attachments": {},
   "cell_type": "markdown",
   "metadata": {},
   "source": [
    "in this case passengers_count = 0 also looks like a error... "
   ]
  },
  {
   "cell_type": "code",
   "execution_count": 10,
   "metadata": {},
   "outputs": [],
   "source": [
    "# according to https://en.wikipedia.org/wiki/Decimal_degrees we can have a precision of tectonic survey using \n",
    "# only 8 decimal places is needed. latitute and longitude could be downcasted to a format that handles 8 decimals\n",
    "#8 bits coud represent a number of 256 digits... that's makes enough to a taxi fare... \n",
    "new_types = {\n",
    "    'fare_amount':np.float32, #   'pickup_datetime': datetime.datetime, \n",
    "    'pickup_longitude':np.float32,\n",
    "    'pickup_latitude':np.float32,\n",
    "    'dropoff_longitude':np.float32,\t\n",
    "    'dropoff_latitude':np.float32,\n",
    "    'passenger_count':np.int8\n",
    "}\n",
    "\n",
    "dataset=dataset.astype(new_types)\n",
    "# date to datetime \n",
    "dataset.pickup_datetime = pd.to_datetime(dataset.pickup_datetime)"
   ]
  },
  {
   "cell_type": "code",
   "execution_count": 13,
   "metadata": {},
   "outputs": [
    {
     "name": "stdout",
     "output_type": "stream",
     "text": [
      "<class 'pandas.core.frame.DataFrame'>\n",
      "RangeIndex: 5500000 entries, 0 to 5499999\n",
      "Data columns (total 8 columns):\n",
      " #   Column             Dtype              \n",
      "---  ------             -----              \n",
      " 0   key                object             \n",
      " 1   fare_amount        float32            \n",
      " 2   pickup_datetime    datetime64[ns, UTC]\n",
      " 3   pickup_longitude   float32            \n",
      " 4   pickup_latitude    float32            \n",
      " 5   dropoff_longitude  float32            \n",
      " 6   dropoff_latitude   float32            \n",
      " 7   passenger_count    int8               \n",
      "dtypes: datetime64[ns, UTC](1), float32(5), int8(1), object(1)\n",
      "memory usage: 194.1+ MB\n"
     ]
    }
   ],
   "source": [
    "dataset.info()"
   ]
  },
  {
   "cell_type": "markdown",
   "metadata": {},
   "source": [
    "We reduced more than 50% of memory usage on dataframe"
   ]
  },
  {
   "cell_type": "code",
   "execution_count": 14,
   "metadata": {},
   "outputs": [
    {
     "data": {
      "text/plain": [
       "key                   0\n",
       "fare_amount           0\n",
       "pickup_datetime       0\n",
       "pickup_longitude      0\n",
       "pickup_latitude       0\n",
       "dropoff_longitude    33\n",
       "dropoff_latitude     33\n",
       "passenger_count       0\n",
       "dtype: int64"
      ]
     },
     "execution_count": 14,
     "metadata": {},
     "output_type": "execute_result"
    }
   ],
   "source": [
    "#before remove nan\n",
    "dataset.isnull().sum()"
   ]
  },
  {
   "attachments": {},
   "cell_type": "markdown",
   "metadata": {},
   "source": [
    "The maximum amount of passengers allowed in a yellow taxicab by law is four (4) in a four (4) passenger taxicab \n",
    "or five (5) passengers in a five (5) passenger taxicab,\n",
    "\n",
    "source :https://www.nyc.gov/site/tlc/passengers/passenger-frequently-asked-questions.page\n"
   ]
  },
  {
   "cell_type": "markdown",
   "metadata": {},
   "source": [
    "## Cleaning some sanity checks"
   ]
  },
  {
   "cell_type": "code",
   "execution_count": 17,
   "metadata": {},
   "outputs": [],
   "source": [
    "# delete all rows with zero passenger_count\n",
    "index_passengers = dataset[ (dataset['passenger_count'] <= 0) | (dataset['passenger_count'] >5)  ].index\n",
    "dataset.drop(index_passengers , inplace=True)\n"
   ]
  },
  {
   "cell_type": "code",
   "execution_count": 23,
   "metadata": {},
   "outputs": [],
   "source": [
    "# delete all rows with zero or negative fare amount\n",
    "index_amout = dataset[ (dataset['fare_amount'] <= 0)].index\n",
    "dataset.drop(index_amout , inplace=True)"
   ]
  },
  {
   "cell_type": "code",
   "execution_count": 25,
   "metadata": {},
   "outputs": [],
   "source": [
    "# delete rows with zero coordenates \n",
    "index_pickup = dataset[ \n",
    "    (dataset['pickup_longitude'] == 0) |\n",
    "    (dataset['pickup_latitude'] == 0) |\n",
    "    (dataset['dropoff_longitude'] == 0) |\n",
    "    (dataset['dropoff_latitude'] == 0) \n",
    "].index\n",
    "dataset.drop(index_pickup , inplace=True)"
   ]
  },
  {
   "cell_type": "code",
   "execution_count": 26,
   "metadata": {},
   "outputs": [],
   "source": [
    "# since we have a lot data lets assume that 'll not be prejudicial drop na from sample\n",
    "dataset.dropna(inplace=True)"
   ]
  },
  {
   "cell_type": "code",
   "execution_count": 27,
   "metadata": {},
   "outputs": [
    {
     "data": {
      "text/plain": [
       "key                  0\n",
       "fare_amount          0\n",
       "pickup_datetime      0\n",
       "pickup_longitude     0\n",
       "pickup_latitude      0\n",
       "dropoff_longitude    0\n",
       "dropoff_latitude     0\n",
       "passenger_count      0\n",
       "dtype: int64"
      ]
     },
     "execution_count": 27,
     "metadata": {},
     "output_type": "execute_result"
    }
   ],
   "source": [
    "#after remove nan amd other errors\n",
    "dataset.isnull().sum()"
   ]
  },
  {
   "cell_type": "code",
   "execution_count": 40,
   "metadata": {},
   "outputs": [
    {
     "name": "stdout",
     "output_type": "stream",
     "text": [
      " it was deleted 243230 (4%) from dataframe after sanity checks\n"
     ]
    }
   ],
   "source": [
    "deleted_rows = sample_size - dataset.shape[0]\n",
    "print(f' it was deleted {deleted_rows} ({round(deleted_rows/sample_size*100)}%) from dataframe after sanity checks')"
   ]
  },
  {
   "attachments": {},
   "cell_type": "markdown",
   "metadata": {},
   "source": [
    "checking distribution of data. Included 0.01 and 0.999 because, thats problably 'll indicate some outliers "
   ]
  },
  {
   "cell_type": "code",
   "execution_count": 41,
   "metadata": {},
   "outputs": [
    {
     "data": {
      "text/html": [
       "<div>\n",
       "<style scoped>\n",
       "    .dataframe tbody tr th:only-of-type {\n",
       "        vertical-align: middle;\n",
       "    }\n",
       "\n",
       "    .dataframe tbody tr th {\n",
       "        vertical-align: top;\n",
       "    }\n",
       "\n",
       "    .dataframe thead th {\n",
       "        text-align: right;\n",
       "    }\n",
       "</style>\n",
       "<table border=\"1\" class=\"dataframe\">\n",
       "  <thead>\n",
       "    <tr style=\"text-align: right;\">\n",
       "      <th></th>\n",
       "      <th>fare_amount</th>\n",
       "      <th>pickup_longitude</th>\n",
       "      <th>pickup_latitude</th>\n",
       "      <th>dropoff_longitude</th>\n",
       "      <th>dropoff_latitude</th>\n",
       "      <th>passenger_count</th>\n",
       "    </tr>\n",
       "  </thead>\n",
       "  <tbody>\n",
       "    <tr>\n",
       "      <th>count</th>\n",
       "      <td>5256770.00</td>\n",
       "      <td>5256770.00</td>\n",
       "      <td>5256770.00</td>\n",
       "      <td>5256770.00</td>\n",
       "      <td>5256770.00</td>\n",
       "      <td>5256770.00</td>\n",
       "    </tr>\n",
       "    <tr>\n",
       "      <th>mean</th>\n",
       "      <td>11.32</td>\n",
       "      <td>-72.09</td>\n",
       "      <td>42.92</td>\n",
       "      <td>-72.09</td>\n",
       "      <td>42.91</td>\n",
       "      <td>1.60</td>\n",
       "    </tr>\n",
       "    <tr>\n",
       "      <th>std</th>\n",
       "      <td>42.01</td>\n",
       "      <td>7.57</td>\n",
       "      <td>7.87</td>\n",
       "      <td>8.54</td>\n",
       "      <td>7.43</td>\n",
       "      <td>1.16</td>\n",
       "    </tr>\n",
       "    <tr>\n",
       "      <th>min</th>\n",
       "      <td>0.01</td>\n",
       "      <td>-3414.13</td>\n",
       "      <td>-3492.26</td>\n",
       "      <td>-3428.04</td>\n",
       "      <td>-3461.54</td>\n",
       "      <td>1.00</td>\n",
       "    </tr>\n",
       "    <tr>\n",
       "      <th>1%</th>\n",
       "      <td>3.30</td>\n",
       "      <td>-74.01</td>\n",
       "      <td>40.65</td>\n",
       "      <td>-74.02</td>\n",
       "      <td>40.65</td>\n",
       "      <td>1.00</td>\n",
       "    </tr>\n",
       "    <tr>\n",
       "      <th>5%</th>\n",
       "      <td>4.10</td>\n",
       "      <td>-74.01</td>\n",
       "      <td>40.71</td>\n",
       "      <td>-74.01</td>\n",
       "      <td>40.70</td>\n",
       "      <td>1.00</td>\n",
       "    </tr>\n",
       "    <tr>\n",
       "      <th>10%</th>\n",
       "      <td>4.50</td>\n",
       "      <td>-74.00</td>\n",
       "      <td>40.72</td>\n",
       "      <td>-74.00</td>\n",
       "      <td>40.72</td>\n",
       "      <td>1.00</td>\n",
       "    </tr>\n",
       "    <tr>\n",
       "      <th>25%</th>\n",
       "      <td>6.00</td>\n",
       "      <td>-73.99</td>\n",
       "      <td>40.74</td>\n",
       "      <td>-73.99</td>\n",
       "      <td>40.74</td>\n",
       "      <td>1.00</td>\n",
       "    </tr>\n",
       "    <tr>\n",
       "      <th>50%</th>\n",
       "      <td>8.50</td>\n",
       "      <td>-73.98</td>\n",
       "      <td>40.75</td>\n",
       "      <td>-73.98</td>\n",
       "      <td>40.75</td>\n",
       "      <td>1.00</td>\n",
       "    </tr>\n",
       "    <tr>\n",
       "      <th>75%</th>\n",
       "      <td>12.50</td>\n",
       "      <td>-73.97</td>\n",
       "      <td>40.77</td>\n",
       "      <td>-73.97</td>\n",
       "      <td>40.77</td>\n",
       "      <td>2.00</td>\n",
       "    </tr>\n",
       "    <tr>\n",
       "      <th>90%</th>\n",
       "      <td>20.50</td>\n",
       "      <td>-73.95</td>\n",
       "      <td>40.78</td>\n",
       "      <td>-73.95</td>\n",
       "      <td>40.78</td>\n",
       "      <td>3.00</td>\n",
       "    </tr>\n",
       "    <tr>\n",
       "      <th>99%</th>\n",
       "      <td>52.00</td>\n",
       "      <td>-73.79</td>\n",
       "      <td>40.81</td>\n",
       "      <td>-73.79</td>\n",
       "      <td>40.83</td>\n",
       "      <td>5.00</td>\n",
       "    </tr>\n",
       "    <tr>\n",
       "      <th>99.9%</th>\n",
       "      <td>78.90</td>\n",
       "      <td>-73.14</td>\n",
       "      <td>40.86</td>\n",
       "      <td>-73.50</td>\n",
       "      <td>40.90</td>\n",
       "      <td>5.00</td>\n",
       "    </tr>\n",
       "    <tr>\n",
       "      <th>max</th>\n",
       "      <td>93963.36</td>\n",
       "      <td>3442.19</td>\n",
       "      <td>3333.27</td>\n",
       "      <td>3453.42</td>\n",
       "      <td>3350.05</td>\n",
       "      <td>5.00</td>\n",
       "    </tr>\n",
       "  </tbody>\n",
       "</table>\n",
       "</div>"
      ],
      "text/plain": [
       "       fare_amount  pickup_longitude  pickup_latitude  dropoff_longitude  \\\n",
       "count   5256770.00        5256770.00       5256770.00         5256770.00   \n",
       "mean         11.32            -72.09            42.92             -72.09   \n",
       "std          42.01              7.57             7.87               8.54   \n",
       "min           0.01          -3414.13         -3492.26           -3428.04   \n",
       "1%            3.30            -74.01            40.65             -74.02   \n",
       "5%            4.10            -74.01            40.71             -74.01   \n",
       "10%           4.50            -74.00            40.72             -74.00   \n",
       "25%           6.00            -73.99            40.74             -73.99   \n",
       "50%           8.50            -73.98            40.75             -73.98   \n",
       "75%          12.50            -73.97            40.77             -73.97   \n",
       "90%          20.50            -73.95            40.78             -73.95   \n",
       "99%          52.00            -73.79            40.81             -73.79   \n",
       "99.9%        78.90            -73.14            40.86             -73.50   \n",
       "max       93963.36           3442.19          3333.27            3453.42   \n",
       "\n",
       "       dropoff_latitude  passenger_count  \n",
       "count        5256770.00       5256770.00  \n",
       "mean              42.91             1.60  \n",
       "std                7.43             1.16  \n",
       "min            -3461.54             1.00  \n",
       "1%                40.65             1.00  \n",
       "5%                40.70             1.00  \n",
       "10%               40.72             1.00  \n",
       "25%               40.74             1.00  \n",
       "50%               40.75             1.00  \n",
       "75%               40.77             2.00  \n",
       "90%               40.78             3.00  \n",
       "99%               40.83             5.00  \n",
       "99.9%             40.90             5.00  \n",
       "max             3350.05             5.00  "
      ]
     },
     "execution_count": 41,
     "metadata": {},
     "output_type": "execute_result"
    }
   ],
   "source": [
    "#describing \n",
    "dataset.describe([.01,.05,.10,.25,.5,.75,.9,.99,.999])"
   ]
  },
  {
   "cell_type": "markdown",
   "metadata": {},
   "source": [
    "## Exporting preprocessed dataframe to csv file"
   ]
  },
  {
   "cell_type": "code",
   "execution_count": 42,
   "metadata": {},
   "outputs": [],
   "source": [
    "# dropping key column\n",
    "dataset.drop(columns='key',inplace=True)"
   ]
  },
  {
   "cell_type": "code",
   "execution_count": 43,
   "metadata": {},
   "outputs": [],
   "source": [
    "dataset.to_csv(f'../data/taxi_sample.csv')"
   ]
  },
  {
   "cell_type": "markdown",
   "metadata": {},
   "source": []
  }
 ],
 "metadata": {
  "kernelspec": {
   "display_name": "base",
   "language": "python",
   "name": "python3"
  },
  "language_info": {
   "codemirror_mode": {
    "name": "ipython",
    "version": 3
   },
   "file_extension": ".py",
   "mimetype": "text/x-python",
   "name": "python",
   "nbconvert_exporter": "python",
   "pygments_lexer": "ipython3",
   "version": "3.8.5"
  },
  "orig_nbformat": 4,
  "vscode": {
   "interpreter": {
    "hash": "69e82622505be82ec5a5909d9f0cb99045330991c5bf60af11637927dda4ac8d"
   }
  }
 },
 "nbformat": 4,
 "nbformat_minor": 2
}
